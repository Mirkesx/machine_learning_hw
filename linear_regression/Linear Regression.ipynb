{
 "cells": [
  {
   "cell_type": "code",
   "execution_count": 1,
   "metadata": {},
   "outputs": [],
   "source": [
    "import numpy as np"
   ]
  },
  {
   "cell_type": "code",
   "execution_count": 147,
   "metadata": {},
   "outputs": [],
   "source": [
    "def h_theta(xi,theta):\n",
    "    result = np.dot(xi,theta)\n",
    "    print(\"h_theta having x={} and theta={} is: {}.\".format(xi,theta,result))\n",
    "    return result\n",
    "\n",
    "def J(x,y,theta,m):\n",
    "    J_result = (1/(2*m))*sum( [(h_theta(x[i],theta) - y[i])**2 for i in range(0,m)] )\n",
    "    #print(J_result)\n",
    "    return J_result\n",
    "\n",
    "def dJ(x,y,theta):\n",
    "    (m,n)=x.shape\n",
    "    h_theta_arr = np.array([ h_theta(x[i],theta) for i in range(0,m) ])\n",
    "    dJ_result = np.array([(1/2)*sum( (h_theta_arr[i] - y[i])*x[i][j] for i in range(0,m)) for j in range(0,n)])\n",
    "    #print(dJ_result)\n",
    "    return dJ_result\n",
    "\n",
    "def update_theta(x,y,theta,learning_rate):\n",
    "    #theta_i' = theta_i - learning_rate * dJ/dtheta_i\n",
    "    new_theta = theta - learning_rate * dJ(x,y,theta)\n",
    "    print(\"Theta's values changed from {} to {}.\".format(theta,new_theta))\n",
    "    return new_theta"
   ]
  },
  {
   "cell_type": "code",
   "execution_count": 166,
   "metadata": {},
   "outputs": [
    {
     "name": "stdout",
     "output_type": "stream",
     "text": [
      "h_theta having x=[1 1] and theta=[1, 2] is: 3.\n",
      "h_theta having x=[1 0] and theta=[1, 2] is: 1.\n",
      "Cost at time T: 2.25.\n",
      "\n",
      "\n",
      "h_theta having x=[1 1] and theta=[1, 2] is: 3.\n",
      "h_theta having x=[1 0] and theta=[1, 2] is: 1.\n",
      "Theta's values changed from [1, 2] to [-0.5  0.5].\n",
      "h_theta having x=[1 1] and theta=[-0.5  0.5] is: 0.0.\n",
      "h_theta having x=[1 0] and theta=[-0.5  0.5] is: -0.5.\n",
      "Cost at time T+1: 0.5625.\n",
      "\n",
      "\n",
      "h_theta having x=[1 1] and theta=[-0.5  0.5] is: 0.0.\n",
      "h_theta having x=[1 0] and theta=[-0.5  0.5] is: -0.5.\n",
      "Theta's values changed from [-0.5  0.5] to [0.25 0.5 ].\n",
      "h_theta having x=[1 1] and theta=[0.25 0.5 ] is: 0.75.\n",
      "h_theta having x=[1 0] and theta=[0.25 0.5 ] is: 0.25.\n",
      "Cost at time T+2: 0.28125.\n",
      "\n",
      "\n",
      "h_theta having x=[1 1] and theta=[0.25 0.5 ] is: 0.75.\n",
      "h_theta having x=[1 0] and theta=[0.25 0.5 ] is: 0.25.\n",
      "Theta's values changed from [0.25 0.5 ] to [0.25  0.125].\n",
      "h_theta having x=[1 1] and theta=[0.25  0.125] is: 0.375.\n",
      "h_theta having x=[1 0] and theta=[0.25  0.125] is: 0.25.\n",
      "Cost at time T+3: 0.17578125.\n",
      "\n",
      "\n"
     ]
    }
   ],
   "source": [
    "#Setting up our set - ESERCIZIO 2\n",
    "x = np.array([\n",
    "    [1,1],\n",
    "    [1,0]\n",
    "])\n",
    "y = np.array([0,1])\n",
    "(m,) = y.shape\n",
    "learning_rate = 1\n",
    "\n",
    "#At Time T\n",
    "theta_t = [1,2]#np.random.rand(m)\n",
    "cost_t = J(x,y,theta_t,m)\n",
    "print(\"Cost at time T: {}.\\n\\n\".format(cost_t))\n",
    "\n",
    "\n",
    "#At Time T+1\n",
    "theta_t1 = update_theta(x,y,theta_t,learning_rate)\n",
    "cost_t1 = J(x,y,theta_t1,m)\n",
    "print(\"Cost at time T+1: {}.\\n\\n\".format(cost_t1))\n",
    "\n",
    "#At Time T+2\n",
    "theta_t2 = update_theta(x,y,theta_t1,learning_rate)\n",
    "cost_t2 = J(x,y,theta_t2,m)\n",
    "print(\"Cost at time T+2: {}.\\n\\n\".format(cost_t2))\n",
    "\n",
    "#At Time T+3\n",
    "theta_t3 = update_theta(x,y,theta_t2,learning_rate)\n",
    "cost_t3 = J(x,y,theta_t3,m)\n",
    "print(\"Cost at time T+3: {}.\\n\\n\".format(cost_t3))"
   ]
  },
  {
   "cell_type": "code",
   "execution_count": null,
   "metadata": {},
   "outputs": [],
   "source": []
  }
 ],
 "metadata": {
  "kernelspec": {
   "display_name": "Python 3",
   "language": "python",
   "name": "python3"
  },
  "language_info": {
   "codemirror_mode": {
    "name": "ipython",
    "version": 3
   },
   "file_extension": ".py",
   "mimetype": "text/x-python",
   "name": "python",
   "nbconvert_exporter": "python",
   "pygments_lexer": "ipython3",
   "version": "3.7.6"
  }
 },
 "nbformat": 4,
 "nbformat_minor": 4
}
