{
 "cells": [
  {
   "cell_type": "code",
   "execution_count": 1,
   "metadata": {},
   "outputs": [],
   "source": [
    "import torch"
   ]
  },
  {
   "cell_type": "code",
   "execution_count": 3,
   "metadata": {},
   "outputs": [
    {
     "name": "stdout",
     "output_type": "stream",
     "text": [
      "torch.Size([2, 3])\n",
      "torch.Size([2, 3, 2])\n",
      "torch.Size([3])\n"
     ]
    }
   ],
   "source": [
    "#DOMANDA 9\n",
    "# torch.Tensor([[1,2,3],[5,4,3]]) -> 2,3\n",
    "# torch.Tensor([[[2,1],[3,3],[2,3]],[[2,2],[3,2],[4,5]]]) -> 2,3,2\n",
    "# torch.Tensor([1,2,3]) -> 3\n",
    "\n",
    "print(torch.Tensor([[1,2,3],[5,4,3]]).shape)\n",
    "print(torch.Tensor([[[2,1],[3,3],[2,3]],[[2,2],[3,2],[4,5]]]).shape)\n",
    "print(torch.Tensor([1,2,3]).shape)\n",
    "\n"
   ]
  },
  {
   "cell_type": "code",
   "execution_count": 4,
   "metadata": {},
   "outputs": [],
   "source": [
    "#DOMANDA 10\n",
    "# t = torch.Tensor([[4,8,2],[6,6,9]])\n",
    "# IntTensor\n",
    "# Ritorna 6\n",
    "# [16,64,4]\n",
    "# Nella prima dividiamo, nella seconda dividiamo e assegniamo. Meglio la prima"
   ]
  },
  {
   "cell_type": "code",
   "execution_count": 5,
   "metadata": {},
   "outputs": [
    {
     "name": "stdout",
     "output_type": "stream",
     "text": [
      "tensor(1.)\n"
     ]
    }
   ],
   "source": [
    "#DOMANDA 11\n",
    "# 1\n",
    "\n",
    "t = torch.Tensor([[4,8,2],[6,6,9]])\n",
    "n = t.numpy()\n",
    "n/=2\n",
    "print(t[0,2])"
   ]
  },
  {
   "cell_type": "code",
   "execution_count": 8,
   "metadata": {},
   "outputs": [
    {
     "name": "stdout",
     "output_type": "stream",
     "text": [
      "tensor([6.])\n"
     ]
    }
   ],
   "source": [
    "#DOMANDA 12\n",
    "# 6\n",
    "\n",
    "x = torch.Tensor([6])\n",
    "x.requires_grad_(True)\n",
    "y = 0.5 * x**2\n",
    "y.backward()\n",
    "print(x.grad)"
   ]
  },
  {
   "cell_type": "code",
   "execution_count": 9,
   "metadata": {},
   "outputs": [
    {
     "name": "stdout",
     "output_type": "stream",
     "text": [
      "tensor([18.])\n"
     ]
    }
   ],
   "source": [
    "#DOMANDA 13\n",
    "# 18?\n",
    "y = x**2\n",
    "y.backward()\n",
    "print(x.grad)"
   ]
  },
  {
   "cell_type": "code",
   "execution_count": 10,
   "metadata": {},
   "outputs": [
    {
     "name": "stdout",
     "output_type": "stream",
     "text": [
      "tensor([3.])\n",
      "tensor([3.])\n"
     ]
    }
   ],
   "source": [
    "#DOMANDA 14\n",
    "# 3 e 3\n",
    "x = torch.Tensor([3]); x.requires_grad_(True)\n",
    "y = torch.Tensor([6]); y.requires_grad_(True)\n",
    "z = 0.5*x**2+3*y\n",
    "z.backward()\n",
    "print(x.grad)\n",
    "print(y.grad)"
   ]
  },
  {
   "cell_type": "code",
   "execution_count": 12,
   "metadata": {},
   "outputs": [
    {
     "name": "stdout",
     "output_type": "stream",
     "text": [
      "tensor([[ 7., 10., 15.],\n",
      "        [13., 13., 11.]])\n"
     ]
    }
   ],
   "source": [
    "#ESERCIZIO 11\n",
    "a = torch.Tensor([[1,3,6],[4,5,9]])\n",
    "b = torch.Tensor([[6,7,9],[9,8,2]])\n",
    "\n",
    "c = torch.add(a,b)\n",
    "print(c)"
   ]
  },
  {
   "cell_type": "code",
   "execution_count": 13,
   "metadata": {},
   "outputs": [
    {
     "name": "stdout",
     "output_type": "stream",
     "text": [
      "tensor([[-5., -4., -3.],\n",
      "        [-5., -3.,  7.]])\n"
     ]
    }
   ],
   "source": [
    "a.sub_(b)\n",
    "print(a)"
   ]
  },
  {
   "cell_type": "code",
   "execution_count": 19,
   "metadata": {},
   "outputs": [
    {
     "name": "stdout",
     "output_type": "stream",
     "text": [
      "tensor([-3.,  7.])\n"
     ]
    }
   ],
   "source": [
    "valori_max, indici_max = a.max(-1)\n",
    "print(valori_max)"
   ]
  },
  {
   "cell_type": "code",
   "execution_count": 23,
   "metadata": {},
   "outputs": [
    {
     "name": "stdout",
     "output_type": "stream",
     "text": [
      "tensor([22., 19.])\n"
     ]
    }
   ],
   "source": [
    "print(b.sum(-1))"
   ]
  },
  {
   "cell_type": "code",
   "execution_count": 25,
   "metadata": {},
   "outputs": [
    {
     "name": "stdout",
     "output_type": "stream",
     "text": [
      "tensor([-512.], grad_fn=<SubBackward0>)\n",
      "tensor([1.])\n",
      "tensor([-192.])\n"
     ]
    }
   ],
   "source": [
    "#Esercizio 12\n",
    "f = lambda x,y: (x / y**x) - y**3\n",
    "x = torch.Tensor([0]); x.requires_grad_(True)\n",
    "y = torch.Tensor([8]); y.requires_grad_(True)\n",
    "\n",
    "z = f(x,y)\n",
    "print(z)\n",
    "\n",
    "z.backward()\n",
    "print(x.grad)\n",
    "print(y.grad)"
   ]
  },
  {
   "cell_type": "code",
   "execution_count": null,
   "metadata": {},
   "outputs": [],
   "source": []
  }
 ],
 "metadata": {
  "kernelspec": {
   "display_name": "Python 3",
   "language": "python",
   "name": "python3"
  },
  "language_info": {
   "codemirror_mode": {
    "name": "ipython",
    "version": 3
   },
   "file_extension": ".py",
   "mimetype": "text/x-python",
   "name": "python",
   "nbconvert_exporter": "python",
   "pygments_lexer": "ipython3",
   "version": "3.8.5"
  }
 },
 "nbformat": 4,
 "nbformat_minor": 4
}
