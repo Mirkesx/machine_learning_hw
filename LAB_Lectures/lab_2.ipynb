{
 "cells": [
  {
   "cell_type": "code",
   "execution_count": 1,
   "metadata": {},
   "outputs": [],
   "source": [
    "from sklearn.datasets import load_boston\n",
    "import numpy as np\n",
    "import torch\n",
    "from torch import nn\n",
    "np.random.seed(123)\n",
    "torch.random.manual_seed(123);\n",
    "boston = load_boston()\n",
    "X = boston.data\n",
    "Y = boston.target\n",
    "idx = np.random.permutation(len(X))\n",
    "X = X[idx]\n",
    "Y = Y[idx]\n",
    "X_training = torch.Tensor(X[50:])\n",
    "Y_training = torch.Tensor(Y[50:])\n",
    "X_testing = torch.Tensor(X[:50])\n",
    "Y_testing = torch.Tensor(Y[:50])"
   ]
  },
  {
   "cell_type": "code",
   "execution_count": 2,
   "metadata": {},
   "outputs": [],
   "source": [
    "class LinearRegressor(nn.Module):\n",
    "    def __init__(self, in_size, out_size):\n",
    "        \"\"\"Costruisce un regressore logistico.\n",
    "         Input:\n",
    "         in_size: numero di feature in input (es. 13)\n",
    "         out_size: numero di elementi in output (es. 1)\"\"\"\n",
    "        super(LinearRegressor, self).__init__() #richiamo il costruttore della superclasse\n",
    "        #questo passo è necessario per abilitare alcuni meccanismi automatici dei moduli di PyTorch\n",
    "\n",
    "        self.linear = nn.Linear(in_size,out_size)\n",
    "        \n",
    "    def forward(self,x):\n",
    "        \"\"\"Definisce come processare l'input x\"\"\"\n",
    "        result = self.linear(x)\n",
    "\n",
    "        return result"
   ]
  },
  {
   "cell_type": "code",
   "execution_count": 3,
   "metadata": {},
   "outputs": [],
   "source": [
    "from torch.utils.tensorboard import SummaryWriter\n",
    "lr = 0.01\n",
    "epochs = 300\n",
    "writer = SummaryWriter('logs/linear_regressor_1')\n",
    "#normalizzazione dei dati\n",
    "means = X_training.mean(0)\n",
    "stds = X_training.std(0)\n",
    "X_training_norm = (X_training-means)/stds\n",
    "X_testing_norm = (X_testing-means)/stds\n",
    "reg = LinearRegressor(13,1)\n",
    "criterion = nn.MSELoss()\n",
    "optimizer = torch.optim.SGD(reg.parameters(),lr=lr)\n",
    "for e in range(epochs):\n",
    "    reg.train()\n",
    "    output = reg(X_training_norm)\n",
    "    l = criterion(output.view(-1),Y_training)\n",
    "\n",
    "    writer.add_scalar('loss/train', l.item(), global_step=e)\n",
    "    l.backward()\n",
    "    optimizer.step()\n",
    "    optimizer.zero_grad()\n",
    "    reg.eval()\n",
    "\n",
    "    with torch.set_grad_enabled(False):\n",
    "        y_test = reg(X_testing_norm)\n",
    "        l = criterion(y_test.view(-1),Y_testing)\n",
    "        writer.add_scalar('loss/test', l.item(), global_step=e)"
   ]
  },
  {
   "cell_type": "code",
   "execution_count": 4,
   "metadata": {},
   "outputs": [],
   "source": [
    "preds_training = reg(X_training_norm)\n",
    "preds_testing = reg(X_testing_norm)"
   ]
  },
  {
   "cell_type": "code",
   "execution_count": 8,
   "metadata": {},
   "outputs": [
    {
     "name": "stdout",
     "output_type": "stream",
     "text": [
      "Mean Squared Error (MSE) di training: 20.52\n",
      "Mean Squared Error (MSE) di testing: 44.04\n"
     ]
    }
   ],
   "source": [
    "def MSE(predictions, gt):\n",
    "    #inseriamo un assert per assicurarci che le due shape siano compatibili\n",
    "    #questo serve ad evitare problemi indotti dal broadcasting\n",
    "    assert predictions.shape == gt.shape\n",
    "    return ((predictions-gt)**2).mean()\n",
    "#quando chiamiamo il metodo MSE, facciamo un reshape delle predizioni in modo che da shape [N x 1] diventino di shape [1]\n",
    "print(\"Mean Squared Error (MSE) di training: {:0.2f}\".format(MSE(preds_training.view(-1),Y_training)))\n",
    "print(\"Mean Squared Error (MSE) di testing: {:0.2f}\".format(MSE(preds_testing.view(-1),Y_testing)))"
   ]
  },
  {
   "cell_type": "code",
   "execution_count": 9,
   "metadata": {},
   "outputs": [
    {
     "name": "stdout",
     "output_type": "stream",
     "text": [
      "Root Mean Squared Error (RMSE) di training: 4.53\n",
      "Root Mean Squared Error (RMSE) di testing: 6.64\n"
     ]
    }
   ],
   "source": [
    "def RMSE(predictions, gt):\n",
    "    assert predictions.shape == gt.shape\n",
    "    return ((predictions-gt)**2).mean()**(1/2)\n",
    "print(\"Root Mean Squared Error (RMSE) di training: {:0.2f}\".format(RMSE(preds_training.view(-1),Y_training)))\n",
    "print(\"Root Mean Squared Error (RMSE) di testing: {:0.2f}\".format(RMSE(preds_testing.view(-1),Y_testing)))"
   ]
  },
  {
   "cell_type": "code",
   "execution_count": 10,
   "metadata": {},
   "outputs": [
    {
     "name": "stdout",
     "output_type": "stream",
     "text": [
      "Mean Absolute Error (MAE) di training: 3.08\n",
      "Mean Absolute Error (MAE) di testing: 4.31\n"
     ]
    }
   ],
   "source": [
    "def MAE(predictions, gt):\n",
    "    assert predictions.shape == gt.shape\n",
    "    return ((predictions-gt).abs()).mean()\n",
    "print(\"Mean Absolute Error (MAE) di training: {:0.2f}\".format(MAE(preds_training.view(-1),Y_training)))\n",
    "print(\"Mean Absolute Error (MAE) di testing: {:0.2f}\".format(MAE(preds_testing.view(-1),Y_testing)))"
   ]
  },
  {
   "cell_type": "code",
   "execution_count": 13,
   "metadata": {},
   "outputs": [],
   "source": [
    "from matplotlib import pyplot as plt\n",
    "def rec_curve(predictions, gt):\n",
    "    assert predictions.shape == gt.shape\n",
    "    #calcoliamo tutti gli errori mediante MAE\n",
    "    errors = np.abs(np.array((predictions.detach()-gt)))\n",
    "    #prendiamo i valori unici degli erorri e ordiniamoli\n",
    "    tolerances = sorted(np.unique(errors))\n",
    "    correct= [] #lista delle \"accuracy\" relative a ogni soglia\n",
    "    for t in tolerances:\n",
    "        correct.append((errors<=t).mean()) #frazione di elementi \"correttamente\" re    gressi\n",
    "    AUC = np.trapz(correct, tolerances) #area sotto la curva calcolata col metodo d    ei trapezi\n",
    "    tot_area = np.max(tolerances)*1 #area totale\n",
    "    AOC = tot_area - AUC\n",
    "    #restituiamo le soglie, la frazione di campioni correttamente regressi e l'area    sopra la curva\n",
    "    return tolerances, correct, AOC"
   ]
  },
  {
   "cell_type": "code",
   "execution_count": 14,
   "metadata": {},
   "outputs": [
    {
     "data": {
      "image/png": "[encoded data removed]",
      "text/plain": [
       "<Figure size 432x288 with 1 Axes>"
      ]
     },
     "metadata": {
      "needs_background": "light"
     },
     "output_type": "display_data"
    }
   ],
   "source": [
    "boston_linear_regressor_rec = rec_curve(preds_testing.view(-1),Y_testing)\n",
    "plt.plot(boston_linear_regressor_rec[0], boston_linear_regressor_rec[1])\n",
    "plt.legend(['Boston Linear Regressor. AOC: %0.2f'%boston_linear_regressor_rec[2]])\n",
    "plt.grid()\n",
    "plt.show()"
   ]
  },
  {
   "cell_type": "code",
   "execution_count": 15,
   "metadata": {},
   "outputs": [
    {
     "data": {
      "image/png": "[encoded data removed]",
      "text/plain": [
       "<Figure size 432x288 with 1 Axes>"
      ]
     },
     "metadata": {
      "needs_background": "light"
     },
     "output_type": "display_data"
    }
   ],
   "source": [
    "boston_linear_regressor_training_rec = rec_curve(preds_training.view(-1),Y_training)\n",
    "boston_linear_regressor_testing_rec = rec_curve(preds_testing.view(-1),Y_testing)\n",
    "plt.plot(boston_linear_regressor_training_rec[0], boston_linear_regressor_training_rec[1])\n",
    "plt.plot(boston_linear_regressor_testing_rec[0], boston_linear_regressor_testing_rec[1])\n",
    "plt.legend(['Boston Linear Regressor [train]. AOC: %0.2f'%boston_linear_regressor_training_rec[2],'Boston Linear Regressor [test]. AOC: %0.2f'%boston_linear_regressor_testing_rec[2]])\n",
    "plt.grid()\n",
    "plt.show()"
   ]
  },
  {
   "cell_type": "code",
   "execution_count": 23,
   "metadata": {},
   "outputs": [
    {
     "name": "stdout",
     "output_type": "stream",
     "text": [
      "(569, 30)\n",
      "(569,)\n",
      "[0 0 0 0 0 0 0 0 0 0 0 0 0 0 0 0 0 0 0 1 1 1 0 0 0 0 0 0 0 0 0 0 0 0 0 0 0\n",
      " 1 0 0 0 0 0 0 0 0 1 0 1 1 1 1 1 0 0 1 0 0 1 1 1 1 0 1 0 0 1 1 1 1 0 1 0 0\n",
      " 1 0 1 0 0 1 1 1 0 0 1 0 0 0 1 1 1 0 1 1 0 0 1 1 1 0]\n"
     ]
    }
   ],
   "source": [
    "from sklearn.datasets import load_breast_cancer\n",
    "dataset = load_breast_cancer()\n",
    "X=dataset.data\n",
    "Y=dataset.target\n",
    "#features\n",
    "print(X.shape)\n",
    "#classi target\n",
    "print(Y.shape)\n",
    "print(Y[:100])"
   ]
  },
  {
   "cell_type": "code",
   "execution_count": 24,
   "metadata": {},
   "outputs": [],
   "source": [
    "import torch\n",
    "import numpy as np\n",
    "np.random.seed(1234)\n",
    "torch.random.manual_seed(1234);"
   ]
  },
  {
   "cell_type": "code",
   "execution_count": 25,
   "metadata": {},
   "outputs": [],
   "source": [
    "idx = np.random.permutation(len(X))"
   ]
  },
  {
   "cell_type": "code",
   "execution_count": 30,
   "metadata": {},
   "outputs": [],
   "source": [
    "X = X[idx]\n",
    "Y = Y[idx]\n",
    "X_training = torch.Tensor(X[100:])\n",
    "Y_training = torch.Tensor(Y[100:])\n",
    "X_testing = torch.Tensor(X[:100])\n",
    "Y_testing = torch.Tensor(Y[:100])"
   ]
  },
  {
   "cell_type": "code",
   "execution_count": 31,
   "metadata": {},
   "outputs": [],
   "source": [
    "X_mean = X_training.mean(0)\n",
    "X_std = X_training.std(0)\n",
    "X_training_norm = (X_training-X_mean)/X_std\n",
    "X_testing_norm = (X_testing-X_mean)/X_std"
   ]
  },
  {
   "cell_type": "code",
   "execution_count": 32,
   "metadata": {},
   "outputs": [],
   "source": [
    "from torch import nn\n",
    "linear_regressor = nn.Linear(30,1)"
   ]
  },
  {
   "cell_type": "code",
   "execution_count": 33,
   "metadata": {},
   "outputs": [
    {
     "name": "stdout",
     "output_type": "stream",
     "text": [
      "tensor([[-0.2226],\n",
      "        [ 0.0421],\n",
      "        [ 0.0538],\n",
      "        [ 0.5121],\n",
      "        [ 0.4431],\n",
      "        [ 0.3618],\n",
      "        [-0.0954],\n",
      "        [-0.3447],\n",
      "        [ 0.3387],\n",
      "        [ 0.0734]], grad_fn=<SliceBackward>)\n"
     ]
    }
   ],
   "source": [
    "z = linear_regressor(X_training_norm)\n",
    "print(z[:10]) #stampiamo i primi 10 valori predetti"
   ]
  },
  {
   "cell_type": "code",
   "execution_count": 34,
   "metadata": {},
   "outputs": [
    {
     "name": "stdout",
     "output_type": "stream",
     "text": [
      "tensor(-1.5024, grad_fn=<MinBackward1>)\n",
      "tensor(1.6246, grad_fn=<MaxBackward1>)\n"
     ]
    }
   ],
   "source": [
    "print(z.min())\n",
    "print(z.max())"
   ]
  },
  {
   "cell_type": "code",
   "execution_count": 35,
   "metadata": {},
   "outputs": [],
   "source": [
    "def logistic(z):\n",
    "    return 1./(1+torch.exp(-z))"
   ]
  },
  {
   "cell_type": "code",
   "execution_count": 36,
   "metadata": {},
   "outputs": [
    {
     "name": "stdout",
     "output_type": "stream",
     "text": [
      "tensor([[0.4446],\n",
      "        [0.5105],\n",
      "        [0.5135],\n",
      "        [0.6253],\n",
      "        [0.6090],\n",
      "        [0.5895],\n",
      "        [0.4762],\n",
      "        [0.4147],\n",
      "        [0.5839],\n",
      "        [0.5184]], grad_fn=<SliceBackward>)\n"
     ]
    }
   ],
   "source": [
    "p = logistic(z)\n",
    "print(p[:10])"
   ]
  },
  {
   "cell_type": "code",
   "execution_count": 37,
   "metadata": {},
   "outputs": [
    {
     "name": "stdout",
     "output_type": "stream",
     "text": [
      "tensor(0.1821, grad_fn=<MinBackward1>)\n",
      "tensor(0.8354, grad_fn=<MaxBackward1>)\n"
     ]
    }
   ],
   "source": [
    "print(p.min())\n",
    "print(p.max())"
   ]
  },
  {
   "cell_type": "code",
   "execution_count": 38,
   "metadata": {},
   "outputs": [],
   "source": [
    "sigmoid=nn.Sigmoid()"
   ]
  },
  {
   "cell_type": "code",
   "execution_count": 39,
   "metadata": {},
   "outputs": [
    {
     "name": "stdout",
     "output_type": "stream",
     "text": [
      "tensor(0.1821, grad_fn=<MinBackward1>)\n",
      "tensor(0.8354, grad_fn=<MaxBackward1>)\n"
     ]
    }
   ],
   "source": [
    "p2=sigmoid(z)\n",
    "print(p2.min())\n",
    "print(p2.max())"
   ]
  },
  {
   "cell_type": "code",
   "execution_count": 40,
   "metadata": {},
   "outputs": [],
   "source": [
    "def loss(p,y):\n",
    "    return (-y*torch.log(p)-(1-y)*torch.log(1-p)).mean()"
   ]
  },
  {
   "cell_type": "code",
   "execution_count": 41,
   "metadata": {},
   "outputs": [
    {
     "name": "stdout",
     "output_type": "stream",
     "text": [
      "tensor(0.7721, grad_fn=<MeanBackward0>)\n"
     ]
    }
   ],
   "source": [
    "print(loss(p,Y_training.view(-1,1)))"
   ]
  },
  {
   "cell_type": "code",
   "execution_count": 42,
   "metadata": {},
   "outputs": [],
   "source": [
    "loss = nn.BCELoss()"
   ]
  },
  {
   "cell_type": "code",
   "execution_count": 43,
   "metadata": {},
   "outputs": [
    {
     "name": "stdout",
     "output_type": "stream",
     "text": [
      "tensor(0.7721, grad_fn=<BinaryCrossEntropyBackward>)\n"
     ]
    }
   ],
   "source": [
    "print(loss(p,Y_training.view(-1,1)))"
   ]
  },
  {
   "cell_type": "code",
   "execution_count": 44,
   "metadata": {},
   "outputs": [],
   "source": [
    "class LogisticRegressor(nn.Module):\n",
    "    def __init__(self, in_features):\n",
    "        \"\"\"Costruisce un regressore logistico.\n",
    "         Input:\n",
    "         in_features: numero di feature in input (es. 30)\"\"\"\n",
    "        super(LogisticRegressor, self).__init__() #richiamo il costruttore della su    perclasse\n",
    "        #questo passo è necessario per abilitare alcuni meccanismi automatici dei m    oduli di PyTorch\n",
    "\n",
    "        self.linear = nn.Linear(in_features,1) #il regressore logistico restituisce    probabilità\n",
    "        #quindi il numero di feature di output è \"1\"\n",
    "        self.logistic = nn.Sigmoid()\n",
    "\n",
    "    def forward(self,x):\n",
    "        \"\"\"Definisce come processare l'input x\"\"\"\n",
    "        logits = self.linear(x)\n",
    "        return self.logistic(logits)"
   ]
  },
  {
   "cell_type": "code",
   "execution_count": 45,
   "metadata": {},
   "outputs": [],
   "source": [
    "from torch.utils.tensorboard import SummaryWriter\n",
    "writer = SummaryWriter('logs/logistic_regressor')\n",
    "lr = 0.01\n",
    "epochs = 500\n",
    "# Passo 1: normalizzazione dei dati\n",
    "means = X_training.mean(0)\n",
    "stds = X_training.std(0)\n",
    "X_training_norm = (X_training-means)/stds\n",
    "X_testing_norm = (X_testing-means)/stds\n",
    "#Passo 2: inizializziamo il modello\n",
    "regressor = LogisticRegressor(30)\n",
    "loss = nn.BCELoss()\n",
    "sgd = torch.optim.SGD(regressor.parameters(), lr)\n",
    "for e in range(epochs):\n",
    "    regressor.train()\n",
    "    #Passo 3 & 4: calcoliamo le probabilità\n",
    "    p = regressor(X_training_norm)\n",
    "\n",
    "    #Passo 5: calcoliamo il valore della loss\n",
    "    l = loss(p, Y_training.view(-1,1))\n",
    "    #Passo 6: calcoliamo il gradiente della loss rispetto a tutti i parametri\n",
    "    l.backward()\n",
    "    #facciamo log del valore della loss\n",
    "    writer.add_scalar('loss/train', l.item(), global_step=e)\n",
    "    #Passo 7: Aggiorniamo i pesi\n",
    "    sgd.step()\n",
    "    #azzeriamo i gradienti per evitare di accumularli\n",
    "    sgd.zero_grad()\n",
    "    #calcoliamo e facciamo log la loss di test:\n",
    "    regressor.eval()\n",
    "    with torch.set_grad_enabled(False):\n",
    "        p = regressor(X_testing_norm)\n",
    "        l = loss(p, Y_testing.view(-1,1))\n",
    "        writer.add_scalar('loss/test', l.item(), global_step=e)"
   ]
  },
  {
   "cell_type": "code",
   "execution_count": 46,
   "metadata": {},
   "outputs": [
    {
     "name": "stdout",
     "output_type": "stream",
     "text": [
      "tensor(0.1880, grad_fn=<BinaryCrossEntropyBackward>)\n"
     ]
    }
   ],
   "source": [
    "#iniziamo calcolando le predizioni del modello dati i pesi allenati\n",
    "p_test = regressor(X_testing_norm)\n",
    "#calcoliamo il valore della loss\n",
    "print(loss(p_test, Y_testing.view(-1,1)))"
   ]
  },
  {
   "cell_type": "code",
   "execution_count": 47,
   "metadata": {},
   "outputs": [
    {
     "name": "stdout",
     "output_type": "stream",
     "text": [
      "tensor([[False],\n",
      "        [ True],\n",
      "        [ True],\n",
      "        [False],\n",
      "        [ True],\n",
      "        [ True],\n",
      "        [False],\n",
      "        [False],\n",
      "        [False],\n",
      "        [ True]])\n"
     ]
    }
   ],
   "source": [
    "prob_training = regressor(X_training_norm)\n",
    "prob_testing = regressor(X_testing_norm)\n",
    "pred_training = prob_training>=0.5\n",
    "pred_testing = prob_testing>=0.5\n",
    "print(pred_testing[:10])"
   ]
  },
  {
   "cell_type": "code",
   "execution_count": 48,
   "metadata": {},
   "outputs": [],
   "source": [
    "def accuracy(pred,gt):\n",
    "    \"\"\"Calcola l'accuracy date le predizioni pred\n",
    "     e le etichette di ground truth gt\"\"\"\n",
    "    correct = pred.view(-1).byte()==gt.view(-1).byte() #pytorch non capisce che 0 = false, quindi usiamo byte\n",
    "    #conterrà true in corrispondenza degli elementi per i quali è stata predetta la    classe corretta\n",
    "    #inseriamo \"view(-1)\" per essere sicuri di lavorare con array monodimensionali\n",
    "    return float(correct.sum())/len(correct)#conta il numero di predizioni corrette    e divide per il numero totale di predizioni"
   ]
  },
  {
   "cell_type": "code",
   "execution_count": 49,
   "metadata": {},
   "outputs": [
    {
     "name": "stdout",
     "output_type": "stream",
     "text": [
      "Accuracy di training: 0.97\n",
      "Accuracy di test: 0.95\n"
     ]
    }
   ],
   "source": [
    "print(\"Accuracy di training: {:0.2f}\".format(accuracy(pred_training,Y_training)))\n",
    "print(\"Accuracy di test: {:0.2f}\".format(accuracy(pred_testing,Y_testing)))"
   ]
  },
  {
   "cell_type": "code",
   "execution_count": 50,
   "metadata": {},
   "outputs": [],
   "source": [
    "from torch.utils.tensorboard import SummaryWriter\n",
    "writer = SummaryWriter('logs/logistic_regressor_2')\n",
    "lr = 0.01\n",
    "epochs = 500\n",
    "means = X_training.mean(0)\n",
    "stds = X_training.std(0)\n",
    "X_training_norm = (X_training-means)/stds\n",
    "X_testing_norm = (X_testing-means)/stds\n",
    "regressor = LogisticRegressor(30)\n",
    "loss = nn.BCELoss()\n",
    "sgd = torch.optim.SGD(regressor.parameters(), lr)\n",
    "for e in range(epochs):\n",
    "    regressor.train()\n",
    "    p = regressor(X_training_norm)\n",
    "    l = loss(p, Y_training.view(-1,1))\n",
    "    l.backward()\n",
    "    writer.add_scalar('loss/train',l.item(),global_step=e)\n",
    "    sgd.step()\n",
    "    sgd.zero_grad()\n",
    "    writer.add_scalar('accuracy/train',accuracy(p>=0.5,Y_training),global_step=e)\n",
    "\n",
    "    regressor.eval()\n",
    "    with torch.set_grad_enabled(False):\n",
    "        p = regressor(X_testing_norm)\n",
    "        l = loss(p, Y_testing.view(-1,1))\n",
    "        writer.add_scalar('loss/test',l.item(),global_step=e)\n",
    "\n",
    "        #calcoliamo e facciamo log dell'accuracy di training a partire dalle predizioni\n",
    "        writer.add_scalar('accuracy/test',accuracy(p>=0.5,Y_testing),global_step=e)"
   ]
  },
  {
   "cell_type": "code",
   "execution_count": 51,
   "metadata": {},
   "outputs": [],
   "source": [
    "def loss2(z,y):\n",
    "    return (y*torch.log(1+torch.exp(-z))+(1-y)*torch.log(1+torch.exp(z))).mean()"
   ]
  },
  {
   "cell_type": "code",
   "execution_count": 52,
   "metadata": {},
   "outputs": [],
   "source": [
    "class LogisticRegressor(nn.Module):\n",
    "    def __init__(self, in_features):\n",
    "        super(LogisticRegressor, self).__init__()\n",
    "        self.linear = nn.Linear(in_features,1)\n",
    "\n",
    "    def forward(self,x):\n",
    "        logits = self.linear(x)\n",
    "        return logits"
   ]
  },
  {
   "cell_type": "code",
   "execution_count": 53,
   "metadata": {},
   "outputs": [
    {
     "name": "stdout",
     "output_type": "stream",
     "text": [
      "tensor(-1.0679, grad_fn=<MinBackward1>) tensor(1.2829, grad_fn=<MaxBackward1>)\n",
      "tensor(0.2558, grad_fn=<MinBackward1>) tensor(0.7829, grad_fn=<MaxBackward1>)\n"
     ]
    }
   ],
   "source": [
    "regressor=LogisticRegressor(30)\n",
    "logistic = nn.Sigmoid()\n",
    "#logits\n",
    "z = regressor(X_training_norm)\n",
    "print(z.min(),z.max())\n",
    "#probabilità\n",
    "p = logistic(z)\n",
    "print(p.min(),p.max())"
   ]
  },
  {
   "cell_type": "code",
   "execution_count": 54,
   "metadata": {},
   "outputs": [
    {
     "name": "stdout",
     "output_type": "stream",
     "text": [
      "tensor(0.8065, grad_fn=<BinaryCrossEntropyWithLogitsBackward>)\n",
      "tensor(0.8065, grad_fn=<MeanBackward0>)\n"
     ]
    }
   ],
   "source": [
    "loss_stable = nn.BCEWithLogitsLoss()\n",
    "l_1=loss_stable(z,Y_training.view(-1,1))\n",
    "l_2=loss2(z,Y_training.view(-1,1))\n",
    "print(l_1)\n",
    "print(l_2)"
   ]
  },
  {
   "cell_type": "code",
   "execution_count": 55,
   "metadata": {},
   "outputs": [],
   "source": [
    "from torch.utils.tensorboard import SummaryWriter\n",
    "writer = SummaryWriter('logs/logistic_regressor_3')\n",
    "lr = 0.01\n",
    "epochs = 500\n",
    "means = X_training.mean(0)\n",
    "stds = X_training.std(0)\n",
    "X_training_norm = (X_training-means)/stds\n",
    "X_testing_norm = (X_testing-means)/stds\n",
    "regressor = LogisticRegressor(30)\n",
    "#inseriamo qui la nuova loss\n",
    "loss = nn.BCEWithLogitsLoss()\n",
    "sgd = torch.optim.SGD(regressor.parameters(), lr)\n",
    "for e in range(epochs):\n",
    "    regressor.train()\n",
    "    z = regressor(X_training_norm)\n",
    "    l = loss(z, Y_training.view(-1,1))\n",
    "    l.backward()\n",
    "    writer.add_scalar('loss/train',l.item(),global_step=e)\n",
    "    sgd.step()\n",
    "    sgd.zero_grad()\n",
    "\n",
    "    #calcoliamo le probabilità\n",
    "    p=logistic(z)\n",
    "    writer.add_scalar('accuracy/train',accuracy(p>=0.5,Y_training),global_step=e)\n",
    "\n",
    "    regressor.eval()\n",
    "    with torch.set_grad_enabled(False):\n",
    "        z = regressor(X_testing_norm)\n",
    "        l = loss(z, Y_testing.view(-1,1))\n",
    "        writer.add_scalar('loss/test',l.item(),global_step=e)\n",
    "\n",
    "        #calcoliamo le probabilità\n",
    "        p=logistic(z)\n",
    "        writer.add_scalar('accuracy/test',accuracy(p>=0.5,Y_testing),global_step=e)"
   ]
  },
  {
   "cell_type": "code",
   "execution_count": 56,
   "metadata": {},
   "outputs": [
    {
     "name": "stdout",
     "output_type": "stream",
     "text": [
      "Accuracy di training: 0.97\n",
      "Accuracy di test: 0.95\n"
     ]
    }
   ],
   "source": [
    "print(\"Accuracy di training: {:0.2f}\".format(accuracy(logistic(regressor(X_training_norm))>=0.5,Y_training)))\n",
    "print(\"Accuracy di test: {:0.2f}\".format(accuracy(logistic(regressor(X_testing_norm))>=0.5,Y_testing)))"
   ]
  },
  {
   "cell_type": "code",
   "execution_count": 57,
   "metadata": {},
   "outputs": [],
   "source": [
    "preds_training = logistic(regressor(X_training_norm))>=0.5\n",
    "preds_testing = logistic(regressor(X_testing_norm))>=0.5"
   ]
  },
  {
   "cell_type": "code",
   "execution_count": 58,
   "metadata": {},
   "outputs": [
    {
     "name": "stdout",
     "output_type": "stream",
     "text": [
      "Accuracy di training: 0.97\n",
      "Accuracy di test: 0.95\n"
     ]
    }
   ],
   "source": [
    "from sklearn.metrics import accuracy_score\n",
    "acc_training = accuracy_score(Y_training,preds_training)\n",
    "acc_testing = accuracy_score(Y_testing,preds_testing)\n",
    "print(\"Accuracy di training: {:0.2f}\".format(acc_training))\n",
    "print(\"Accuracy di test: {:0.2f}\".format(acc_testing))"
   ]
  },
  {
   "cell_type": "code",
   "execution_count": 59,
   "metadata": {},
   "outputs": [
    {
     "name": "stdout",
     "output_type": "stream",
     "text": [
      "[[159   6]\n",
      " [  6 298]]\n",
      "[[43  4]\n",
      " [ 1 52]]\n"
     ]
    }
   ],
   "source": [
    "from sklearn.metrics import confusion_matrix\n",
    "cm_training = confusion_matrix(Y_training,preds_training)\n",
    "cm_testing = confusion_matrix(Y_testing,preds_testing)\n",
    "print(cm_training)\n",
    "print(cm_testing)"
   ]
  },
  {
   "cell_type": "code",
   "execution_count": 60,
   "metadata": {},
   "outputs": [
    {
     "name": "stdout",
     "output_type": "stream",
     "text": [
      "[[0.91489362 0.08510638]\n",
      " [0.01886792 0.98113208]]\n"
     ]
    }
   ],
   "source": [
    "cm_testing = cm_testing.astype(float)/cm_testing.sum(1).reshape(-1,1)\n",
    "print(cm_testing)"
   ]
  },
  {
   "cell_type": "code",
   "execution_count": 61,
   "metadata": {},
   "outputs": [
    {
     "name": "stdout",
     "output_type": "stream",
     "text": [
      "0.9802631578947368\n",
      "0.9811320754716981\n"
     ]
    }
   ],
   "source": [
    "from sklearn.metrics import precision_score, recall_score\n",
    "scores_training = precision_score(Y_training, preds_training)\n",
    "scores_testing = recall_score(Y_testing,preds_testing)\n",
    "print(scores_training)\n",
    "print(scores_testing)"
   ]
  },
  {
   "cell_type": "code",
   "execution_count": 63,
   "metadata": {},
   "outputs": [
    {
     "name": "stdout",
     "output_type": "stream",
     "text": [
      "[0.96363636 0.98026316]\n",
      "[0.94505495 0.95412844]\n"
     ]
    }
   ],
   "source": [
    "from sklearn.metrics import f1_score\n",
    "scores_training = f1_score(Y_training,preds_training, average=None)\n",
    "scores_testing = f1_score(Y_testing,preds_testing, average=None)\n",
    "print(scores_training)\n",
    "print(scores_testing)"
   ]
  },
  {
   "cell_type": "code",
   "execution_count": 64,
   "metadata": {},
   "outputs": [
    {
     "name": "stdout",
     "output_type": "stream",
     "text": [
      "0.9719497607655503\n",
      "0.9495916927109587\n"
     ]
    }
   ],
   "source": [
    "print(scores_training.mean())\n",
    "print(scores_testing.mean())"
   ]
  },
  {
   "cell_type": "code",
   "execution_count": 65,
   "metadata": {},
   "outputs": [],
   "source": [
    "from torch.utils.tensorboard import SummaryWriter\n",
    "writer = SummaryWriter('logs/logistic_regressor_4')\n",
    "lr = 0.01\n",
    "epochs = 500\n",
    "means = X_training.mean(0)\n",
    "stds = X_training.std(0)\n",
    "X_training_norm = (X_training-means)/stds\n",
    "X_testing_norm = (X_testing-means)/stds\n",
    "regressor = LogisticRegressor(30)\n",
    "loss = nn.BCEWithLogitsLoss()\n",
    "#specifichiamo il weight_decay\n",
    "sgd = torch.optim.SGD(regressor.parameters(), lr, weight_decay=0.001)\n",
    "for e in range(epochs):\n",
    "    regressor.train()\n",
    "    z = regressor(X_training_norm)\n",
    "    l = loss(z, Y_training.view(-1,1))\n",
    "    l.backward()\n",
    "    writer.add_scalar('loss/train',l.item(),global_step=e)\n",
    "    sgd.step()\n",
    "    sgd.zero_grad()\n",
    "\n",
    "    p = logistic(z)\n",
    "    writer.add_scalar('accuracy/train',accuracy(p>=0.5,Y_training),global_step=e)\n",
    "    regressor.eval()\n",
    "    with torch.set_grad_enabled(False):\n",
    "        z = regressor(X_testing_norm)\n",
    "        l = loss(z, Y_testing.view(-1,1))\n",
    "        writer.add_scalar('loss/test',l.item(),global_step=e)\n",
    "\n",
    "        p = logistic(z)\n",
    "        writer.add_scalar('accuracy/test',accuracy(p>=0.5,Y_testing),global_step=e)"
   ]
  },
  {
   "cell_type": "code",
   "execution_count": 66,
   "metadata": {},
   "outputs": [
    {
     "name": "stdout",
     "output_type": "stream",
     "text": [
      "Accuracy di training: 0.97\n",
      "Accuracy di test: 0.95\n"
     ]
    }
   ],
   "source": [
    "print(\"Accuracy di training: {:0.2f}\".format(accuracy(logistic(regressor(X_training_norm))>=0.5,Y_training)))\n",
    "print(\"Accuracy di test: {:0.2f}\".format(accuracy(logistic(regressor(X_testing_norm))>=0.5,Y_testing)))"
   ]
  },
  {
   "cell_type": "code",
   "execution_count": 67,
   "metadata": {},
   "outputs": [],
   "source": [
    "from torch.utils.tensorboard import SummaryWriter\n",
    "writer = SummaryWriter('logs/logistic_regressor_5')\n",
    "lr = 0.01\n",
    "epochs = 500\n",
    "means = X_training.mean(0)\n",
    "stds = X_training.std(0)\n",
    "X_training_norm = (X_training-means)/stds\n",
    "X_testing_norm = (X_testing-means)/stds\n",
    "regressor = LogisticRegressor(30)\n",
    "loss = nn.BCEWithLogitsLoss()\n",
    "#specifichiamo il momentum\n",
    "sgd = torch.optim.SGD(regressor.parameters(), lr, weight_decay=0.001, momentum=0.9)\n",
    "for e in range(epochs):\n",
    "    regressor.train()\n",
    "    z = regressor(X_training_norm)\n",
    "    l = loss(z, Y_training.view(-1,1))\n",
    "    l.backward()\n",
    "    writer.add_scalar('loss/train',l.item(),global_step=e)\n",
    "    sgd.step()\n",
    "    sgd.zero_grad()\n",
    "\n",
    "    p = logistic(z)\n",
    "    writer.add_scalar('accuracy/train',accuracy(p>=0.5,Y_training),global_step=e)\n",
    "    regressor.eval()\n",
    "    with torch.set_grad_enabled(False):\n",
    "        z = regressor(X_testing_norm)\n",
    "        l = loss(z, Y_testing.view(-1,1))\n",
    "        writer.add_scalar('loss/test',l.item(),global_step=e)\n",
    "\n",
    "        p = logistic(z)\n",
    "        writer.add_scalar('accuracy/test',accuracy(p>=0.5,Y_testing),global_step=e)"
   ]
  },
  {
   "cell_type": "code",
   "execution_count": 68,
   "metadata": {},
   "outputs": [
    {
     "name": "stdout",
     "output_type": "stream",
     "text": [
      "Accuracy di training: 0.99\n",
      "Accuracy di test: 0.96\n"
     ]
    }
   ],
   "source": [
    "print(\"Accuracy di training: {:0.2f}\".format(accuracy(regressor(X_training_norm)>=0.5,Y_training)))\n",
    "print(\"Accuracy di test: {:0.2f}\".format(accuracy(regressor(X_testing_norm)>=0.5,Y_testing)))"
   ]
  },
  {
   "cell_type": "code",
   "execution_count": null,
   "metadata": {},
   "outputs": [],
   "source": []
  }
 ],
 "metadata": {
  "kernelspec": {
   "display_name": "Python 3",
   "language": "python",
   "name": "python3"
  },
  "language_info": {
   "codemirror_mode": {
    "name": "ipython",
    "version": 3
   },
   "file_extension": ".py",
   "mimetype": "text/x-python",
   "name": "python",
   "nbconvert_exporter": "python",
   "pygments_lexer": "ipython3",
   "version": "3.7.6"
  }
 },
 "nbformat": 4,
 "nbformat_minor": 4
}
