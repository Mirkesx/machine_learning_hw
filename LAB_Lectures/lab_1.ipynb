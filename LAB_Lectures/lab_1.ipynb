{
 "cells": [
  {
   "cell_type": "code",
   "execution_count": 1,
   "metadata": {},
   "outputs": [
    {
     "name": "stdout",
     "output_type": "stream",
     "text": [
      ".. _boston_dataset:\n",
      "\n",
      "Boston house prices dataset\n",
      "---------------------------\n",
      "\n",
      "**Data Set Characteristics:**  \n",
      "\n",
      "    :Number of Instances: 506 \n",
      "\n",
      "    :Number of Attributes: 13 numeric/categorical predictive. Median Value (attribute 14) is usually the target.\n",
      "\n",
      "    :Attribute Information (in order):\n",
      "        - CRIM     per capita crime rate by town\n",
      "        - ZN       proportion of residential land zoned for lots over 25,000 sq.ft.\n",
      "        - INDUS    proportion of non-retail business acres per town\n",
      "        - CHAS     Charles River dummy variable (= 1 if tract bounds river; 0 otherwise)\n",
      "        - NOX      nitric oxides concentration (parts per 10 million)\n",
      "        - RM       average number of rooms per dwelling\n",
      "        - AGE      proportion of owner-occupied units built prior to 1940\n",
      "        - DIS      weighted distances to five Boston employment centres\n",
      "        - RAD      index of accessibility to radial highways\n",
      "        - TAX      full-value property-tax rate per $10,000\n",
      "        - PTRATIO  pupil-teacher ratio by town\n",
      "        - B        1000(Bk - 0.63)^2 where Bk is the proportion of blacks by town\n",
      "        - LSTAT    % lower status of the population\n",
      "        - MEDV     Median value of owner-occupied homes in $1000's\n",
      "\n",
      "    :Missing Attribute Values: None\n",
      "\n",
      "    :Creator: Harrison, D. and Rubinfeld, D.L.\n",
      "\n",
      "This is a copy of UCI ML housing dataset.\n",
      "https://archive.ics.uci.edu/ml/machine-learning-databases/housing/\n",
      "\n",
      "\n",
      "This dataset was taken from the StatLib library which is maintained at Carnegie Mellon University.\n",
      "\n",
      "The Boston house-price data of Harrison, D. and Rubinfeld, D.L. 'Hedonic\n",
      "prices and the demand for clean air', J. Environ. Economics & Management,\n",
      "vol.5, 81-102, 1978.   Used in Belsley, Kuh & Welsch, 'Regression diagnostics\n",
      "...', Wiley, 1980.   N.B. Various transformations are used in the table on\n",
      "pages 244-261 of the latter.\n",
      "\n",
      "The Boston house-price data has been used in many machine learning papers that address regression\n",
      "problems.   \n",
      "     \n",
      ".. topic:: References\n",
      "\n",
      "   - Belsley, Kuh & Welsch, 'Regression diagnostics: Identifying Influential Data and Sources of Collinearity', Wiley, 1980. 244-261.\n",
      "   - Quinlan,R. (1993). Combining Instance-Based and Model-Based Learning. In Proceedings on the Tenth International Conference of Machine Learning, 236-243, University of Massachusetts, Amherst. Morgan Kaufmann.\n",
      "\n"
     ]
    }
   ],
   "source": [
    "from sklearn.datasets import load_boston\n",
    "boston = load_boston()\n",
    "print(boston.DESCR)"
   ]
  },
  {
   "cell_type": "code",
   "execution_count": 2,
   "metadata": {},
   "outputs": [
    {
     "name": "stdout",
     "output_type": "stream",
     "text": [
      "(506, 13)\n",
      "(506,)\n"
     ]
    }
   ],
   "source": [
    "X = boston.data\n",
    "Y = boston.target\n",
    "print(X.shape) #design matrix\n",
    "print(Y.shape)"
   ]
  },
  {
   "cell_type": "code",
   "execution_count": 3,
   "metadata": {},
   "outputs": [],
   "source": [
    "import numpy as np\n",
    "import torch\n",
    "np.random.seed(123) #in produzione si deve fissare un seed\n",
    "torch.random.manual_seed(123);\n",
    "idx = np.random.permutation(len(X))"
   ]
  },
  {
   "cell_type": "code",
   "execution_count": 4,
   "metadata": {},
   "outputs": [],
   "source": [
    "X = X[idx]\n",
    "Y = Y[idx]"
   ]
  },
  {
   "cell_type": "code",
   "execution_count": 5,
   "metadata": {},
   "outputs": [],
   "source": [
    "X_training = torch.Tensor(X[50:])\n",
    "Y_training = torch.Tensor(Y[50:])\n",
    "X_testing = torch.Tensor(X[:50])\n",
    "Y_testing = torch.Tensor(Y[:50])"
   ]
  },
  {
   "cell_type": "code",
   "execution_count": 6,
   "metadata": {},
   "outputs": [
    {
     "name": "stdout",
     "output_type": "stream",
     "text": [
      "tensor([-0.0111,  0.0120, -0.0370, -0.0240, -0.1197,  0.0209, -0.0972, -0.0755,\n",
      "         0.0324, -0.0109,  0.0210, -0.0391,  0.0235], requires_grad=True)\n",
      "tensor([0.0665], requires_grad=True)\n"
     ]
    }
   ],
   "source": [
    "theta = torch.Tensor(13) #creiamo un tensore di 13 unità\n",
    "theta_0 = torch.Tensor(1) #tensore di una unità (bias)\n",
    "#impostiamo required_grad\n",
    "theta.requires_grad_(True)\n",
    "theta_0.requires_grad_(True)\n",
    "theta.data.normal_(0,0.1) #inizializziamo il tensore con numeri casuali tratti da una\n",
    "#distribuzione normale di media 0 e varianza 0.1\n",
    "theta_0.data.normal_(0,0.1) \n",
    "#media 0 perchè non vogliamo dare un bias ai parametri\n",
    "#varianza piccola attorno allo 0 riduce il bias che diamo ai parametri\n",
    "#le diverse componenti vivono nello stesso spazio\n",
    "\n",
    "print(theta)\n",
    "print(theta_0)"
   ]
  },
  {
   "cell_type": "code",
   "execution_count": 7,
   "metadata": {},
   "outputs": [],
   "source": [
    "def linear_regression(input, theta, theta_0):\n",
    "    return input.mul(theta).sum(1)+theta_0"
   ]
  },
  {
   "cell_type": "code",
   "execution_count": 8,
   "metadata": {},
   "outputs": [],
   "source": [
    "x=X_training[0]"
   ]
  },
  {
   "cell_type": "code",
   "execution_count": 10,
   "metadata": {},
   "outputs": [
    {
     "name": "stdout",
     "output_type": "stream",
     "text": [
      "tensor(-20.8855, grad_fn=<SumBackward0>)\n"
     ]
    }
   ],
   "source": [
    "print(x.mul(theta).sum(1))"
   ]
  },
  {
   "cell_type": "code",
   "execution_count": 14,
   "metadata": {},
   "outputs": [
    {
     "name": "stdout",
     "output_type": "stream",
     "text": [
      "tensor([-20.8190], grad_fn=<AddBackward0>)\n"
     ]
    }
   ],
   "source": [
    "print(X_training.mul(theta).sum(1)[0]+theta_0)"
   ]
  },
  {
   "cell_type": "code",
   "execution_count": 13,
   "metadata": {},
   "outputs": [
    {
     "name": "stdout",
     "output_type": "stream",
     "text": [
      "tensor([-20.8190, -23.3360, -24.6247, -31.4600, -27.4998, -28.1950, -27.1047,\n",
      "        -26.2724, -18.8539, -31.4594], grad_fn=<SliceBackward>)\n"
     ]
    }
   ],
   "source": [
    "y = linear_regression(X_training,theta,theta_0)\n",
    "print(y[:10]) #stampiamo i primi 10 valori predetti"
   ]
  },
  {
   "cell_type": "code",
   "execution_count": 15,
   "metadata": {},
   "outputs": [],
   "source": [
    "def loss(input, target):\n",
    "    return ((input-target)**2).mean()"
   ]
  },
  {
   "cell_type": "code",
   "execution_count": 16,
   "metadata": {},
   "outputs": [
    {
     "name": "stdout",
     "output_type": "stream",
     "text": [
      "tensor(2274.0801, grad_fn=<MeanBackward0>)\n"
     ]
    }
   ],
   "source": [
    "print(loss(y,Y_training)) #l'unità di misura è dollari al quadrato"
   ]
  },
  {
   "cell_type": "code",
   "execution_count": 17,
   "metadata": {},
   "outputs": [
    {
     "name": "stdout",
     "output_type": "stream",
     "text": [
      "tensor([3.5481e+00, 1.1293e+01, 1.1224e+01, 6.1404e-02, 5.5591e-01, 6.2701e+00,\n",
      "        6.8338e+01, 3.7963e+00, 9.5658e+00, 4.0893e+02, 1.8468e+01, 3.5775e+02,\n",
      "        1.2820e+01]) tensor([8.4949e+00, 2.3287e+01, 6.9195e+00, 2.4033e-01, 1.1805e-01, 6.9616e-01,\n",
      "        2.8338e+01, 2.1295e+00, 8.7019e+00, 1.6880e+02, 2.1430e+00, 9.0201e+01,\n",
      "        7.1928e+00])\n"
     ]
    }
   ],
   "source": [
    "means = X_training.mean(0)\n",
    "stds = X_training.std(0)\n",
    "print(means, stds)"
   ]
  },
  {
   "cell_type": "markdown",
   "metadata": {},
   "source": [
    "La normalizzazione la effettuiamo utilizzando la media e la deviazione standard del set di training. Tre motivi:\n",
    "- Se ricalcolo le statistiche dal test set potrebbero trovarsi in un altro spazio rispetto a quelli di training \n",
    "- Ricalcolare le statistiche significa che dobbiamo ritrainare i parametri\n",
    "- I dati di test si presentano ad uno ad uno e quindi le statistiche non possono essere calcolate su di essi"
   ]
  },
  {
   "cell_type": "code",
   "execution_count": 20,
   "metadata": {},
   "outputs": [
    {
     "name": "stdout",
     "output_type": "stream",
     "text": [
      "Epoch: 0, loss: 576.80\n",
      "Epoch: 1, loss: 356.54\n",
      "Epoch: 2, loss: 234.76\n",
      "Epoch: 3, loss: 157.96\n",
      "Epoch: 4, loss: 108.91\n",
      "Epoch: 5, loss: 77.52\n",
      "Epoch: 6, loss: 57.42\n",
      "Epoch: 7, loss: 44.53\n",
      "Epoch: 8, loss: 36.24\n",
      "Epoch: 9, loss: 30.91\n"
     ]
    }
   ],
   "source": [
    "lr = 0.1\n",
    "epochs = 10 #iterazioni\n",
    "# Passo 1: normalizzazione dei dati\n",
    "means = X_training.mean(0)\n",
    "stds = X_training.std(0)\n",
    "X_training_norm = (X_training-means)/stds\n",
    "X_testing_norm = (X_testing-means)/stds\n",
    "#Passo 2: inizializziamo i pesi come visto in precedenza\n",
    "theta = torch.Tensor(13);\n",
    "theta_0 = torch.Tensor(1);\n",
    "theta.normal_(0,0.01)\n",
    "theta_0.normal_(0,0.01)\n",
    "theta.requires_grad_(True)\n",
    "theta_0.requires_grad_(True)\n",
    "for e in range(epochs):\n",
    "    #Passo 3: calcoliamo le predizioni\n",
    "    y = linear_regression(X_training_norm,theta,theta_0)\n",
    "\n",
    "    #Passo 4: calcoliamo il valore della loss\n",
    "    l = loss(y, Y_training)\n",
    "    #Passo 5: calcoliamo il gradiente della loss rispetto a tutti i parametri\n",
    "    l.backward()\n",
    "    #stampiamo il valore della loss\n",
    "    print(\"Epoch: {}, loss: {:0.2f}\".format(e,l.item()))\n",
    "\n",
    "    #Passo 6: Aggiorniamo i pesi\n",
    "    theta.data.sub_(lr*theta.grad.data)\n",
    "    theta_0.data.sub_(lr*theta_0.grad.data)\n",
    "\n",
    "    #azzeriamo i gradienti per evitare di accumularli\n",
    "    theta.grad.data.zero_()\n",
    "    theta_0.grad.data.zero_()"
   ]
  },
  {
   "cell_type": "code",
   "execution_count": 21,
   "metadata": {},
   "outputs": [],
   "source": [
    "lr = 0.1\n",
    "epochs = 50\n",
    "# Passo 1: normalizzazione dei dati\n",
    "means = X_training.mean(0)\n",
    "stds = X_training.std(0)\n",
    "X_training_norm = (X_training-means)/stds\n",
    "X_testing_norm = (X_testing-means)/stds\n",
    "#Passo 2: inizializziamo i pesi come visto in precedenza\n",
    "theta = torch.Tensor(13);\n",
    "theta_0 = torch.Tensor(1);\n",
    "theta.normal_(0,0.01)\n",
    "theta_0.normal_(0,0.01)\n",
    "theta.requires_grad_(True)\n",
    "theta_0.requires_grad_(True)\n",
    "losses = []\n",
    "for e in range(epochs):\n",
    "    #Passo 3: calcoliamo le predizioni\n",
    "    y = linear_regression(X_training_norm,theta,theta_0)\n",
    "\n",
    "    #Passo 4: calcoliamo il valore della loss\n",
    "    l = loss(y, Y_training)\n",
    "    #Passo 5: calcoliamo il gradiente della loss rispetto a tutti i parametri\n",
    "    l.backward()\n",
    "    #conserviamo il valore della loss\n",
    "    losses.append(l.item())\n",
    "    #Passo 6: Aggiorniamo i pesi\n",
    "    theta.data.sub_(lr*theta.grad.data)\n",
    "    theta_0.data.sub_(lr*theta_0.grad.data)\n",
    "\n",
    "    #azzeriamo i gradienti per evitare di accumularli\n",
    "    theta.grad.data.zero_()\n",
    "    theta_0.grad.data.zero_()"
   ]
  },
  {
   "cell_type": "code",
   "execution_count": 23,
   "metadata": {},
   "outputs": [
    {
     "data": {
      "image/png": "[encoded data removed]",
      "text/plain": [
       "<Figure size 864x576 with 1 Axes>"
      ]
     },
     "metadata": {
      "needs_background": "light"
     },
     "output_type": "display_data"
    }
   ],
   "source": [
    "from matplotlib import pyplot as plt\n",
    "plt.figure(figsize=(12,8))\n",
    "plt.plot(losses)\n",
    "plt.xlabel('epochs')\n",
    "plt.ylabel('loss')\n",
    "plt.grid()\n",
    "plt.show()"
   ]
  },
  {
   "cell_type": "code",
   "execution_count": 27,
   "metadata": {},
   "outputs": [
    {
     "name": "stdout",
     "output_type": "stream",
     "text": [
      "tensor(42.8853, grad_fn=<MeanBackward0>)\n"
     ]
    }
   ],
   "source": [
    "#iniziamo calcolando le predizioni del modello dati i pesi allenati\n",
    "yt = linear_regression(X_testing_norm,theta,theta_0)\n",
    "#calcoliamo il valore della loss\n",
    "print(loss(yt, Y_testing))"
   ]
  },
  {
   "cell_type": "code",
   "execution_count": 28,
   "metadata": {},
   "outputs": [],
   "source": [
    "lr = 0.1\n",
    "epochs = 50\n",
    "# Passo 1: normalizzazione dei dati\n",
    "means = X_training.mean(0)\n",
    "stds = X_training.std(0)\n",
    "X_training_norm = (X_training-means)/stds\n",
    "X_testing_norm = (X_testing-means)/stds\n",
    "#Passo 2: inizializziamo i pesi come visto in precedenza\n",
    "theta = torch.Tensor(13);\n",
    "theta_0 = torch.Tensor(1);\n",
    "theta.normal_(0,0.01)\n",
    "theta_0.normal_(0,0.01)\n",
    "theta.requires_grad_(True)\n",
    "theta_0.requires_grad_(True)\n",
    "losses_train = []\n",
    "losses_test = []\n",
    "for e in range(epochs):\n",
    "    #Passo 3: calcoliamo le predizioni\n",
    "    y = linear_regression(X_training_norm,theta,theta_0)\n",
    "\n",
    "    #Passo 4: calcoliamo il valore della loss\n",
    "    l = loss(y, Y_training)\n",
    "    #conserviamo il valore della loss di training\n",
    "    losses_train.append(l.item())\n",
    "    #Passo 5: calcoliamo il gradiente della loss rispetto a tutti i parametri\n",
    "    l.backward()\n",
    "    #Passo 6: Aggiorniamo i pesi\n",
    "    theta.data.sub_(lr*theta.grad.data)\n",
    "    theta_0.data.sub_(lr*theta_0.grad.data)\n",
    "\n",
    "    #azzeriamo i gradienti per evitare di accumularli\n",
    "    theta.grad.data.zero_()\n",
    "    theta_0.grad.data.zero_()\n",
    "\n",
    "    #calcoliamo la loss sul test set\n",
    "    #dato che non dobbiamo calcolare i gradienti\n",
    "    #li disabilitiamo per risparmiare memoria\n",
    "    #questa notazione è di pytorch per disabilitare i gradienti\n",
    "    with torch.set_grad_enabled(False):\n",
    "        y_test = linear_regression(X_testing_norm, theta, theta_0)\n",
    "        loss_test = loss(y_test, Y_testing)\n",
    "        losses_test.append(loss_test.item())"
   ]
  },
  {
   "cell_type": "code",
   "execution_count": 29,
   "metadata": {},
   "outputs": [
    {
     "data": {
      "image/png": "[encoded data removed]",
      "text/plain": [
       "<Figure size 864x576 with 1 Axes>"
      ]
     },
     "metadata": {
      "needs_background": "light"
     },
     "output_type": "display_data"
    }
   ],
   "source": [
    "from matplotlib import pyplot as plt\n",
    "plt.figure(figsize=(12,8))\n",
    "plt.plot(losses_train)\n",
    "plt.plot(losses_test)\n",
    "plt.xlabel('epochs')\n",
    "plt.ylabel('loss')\n",
    "plt.grid()\n",
    "plt.legend(['Training','Testing'])\n",
    "plt.show()"
   ]
  },
  {
   "cell_type": "markdown",
   "metadata": {},
   "source": [
    "Esercizio. y = Ax + b. Dove stanno le feature e dove le variabili?"
   ]
  },
  {
   "cell_type": "code",
   "execution_count": 30,
   "metadata": {},
   "outputs": [],
   "source": [
    "from torch import nn\n",
    "linear = nn.Linear(20,10)"
   ]
  },
  {
   "cell_type": "code",
   "execution_count": 31,
   "metadata": {},
   "outputs": [
    {
     "name": "stdout",
     "output_type": "stream",
     "text": [
      "torch.Size([10, 20])\n",
      "torch.Size([10])\n"
     ]
    }
   ],
   "source": [
    "par = list(linear.parameters())\n",
    "print(par[0].shape) # Matrice A [m x n]\n",
    "print(par[1].shape) # Vettore b [m]"
   ]
  },
  {
   "cell_type": "code",
   "execution_count": 32,
   "metadata": {},
   "outputs": [
    {
     "name": "stdout",
     "output_type": "stream",
     "text": [
      "torch.Size([150, 10])\n"
     ]
    }
   ],
   "source": [
    "#costruiamo una matrice di 150 elementi a 20 dimensioni\n",
    "sample_input = torch.rand((150,20))\n",
    "#otteniamo una matrice di 150 elementi a 10 dimensioni\n",
    "sample_output = linear(sample_input)\n",
    "# abbiamo svolto l'operazione y = Ax + b\n",
    "print(sample_output.shape)"
   ]
  },
  {
   "cell_type": "code",
   "execution_count": 33,
   "metadata": {},
   "outputs": [
    {
     "name": "stdout",
     "output_type": "stream",
     "text": [
      "torch.Size([456, 1])\n"
     ]
    }
   ],
   "source": [
    "linreg = nn.Linear(13,1)\n",
    "z = linreg(X_training_norm)\n",
    "print(z.shape)"
   ]
  },
  {
   "cell_type": "markdown",
   "metadata": {},
   "source": [
    "optimizer.step() #ottimizzazione <br>\n",
    "optimizer.zero_grad() #sostituisce il data.zero_grad"
   ]
  },
  {
   "cell_type": "code",
   "execution_count": null,
   "metadata": {},
   "outputs": [],
   "source": []
  }
 ],
 "metadata": {
  "kernelspec": {
   "display_name": "Python 3",
   "language": "python",
   "name": "python3"
  },
  "language_info": {
   "codemirror_mode": {
    "name": "ipython",
    "version": 3
   },
   "file_extension": ".py",
   "mimetype": "text/x-python",
   "name": "python",
   "nbconvert_exporter": "python",
   "pygments_lexer": "ipython3",
   "version": "3.8.5"
  }
 },
 "nbformat": 4,
 "nbformat_minor": 4
}
